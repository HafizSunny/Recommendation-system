{
 "cells": [
  {
   "cell_type": "code",
   "execution_count": 2,
   "metadata": {
    "collapsed": true
   },
   "outputs": [],
   "source": [
    "import pandas as pd\n",
    "import numpy as np\n",
    "from sklearn.metrics.pairwise import  cosine_similarity\n",
    "from scipy.sparse import csr_matrix"
   ]
  },
  {
   "cell_type": "code",
   "execution_count": 5,
   "outputs": [
    {
     "name": "stdout",
     "output_type": "stream",
     "text": [
      "1116370\n"
     ]
    }
   ],
   "source": [
    "data = pd.read_csv('take_home_ss_ratings.csv')\n",
    "data.head()\n",
    "print(len(data))"
   ],
   "metadata": {
    "collapsed": false,
    "pycharm": {
     "name": "#%%\n"
    }
   }
  },
  {
   "cell_type": "code",
   "execution_count": 4,
   "outputs": [
    {
     "data": {
      "text/plain": "item_id  0     1     2     3     4     5     6     7     8     9     ...  \\\nuser_id                                                              ...   \n0         0.0   0.0   0.0   0.0   0.0   0.0   0.0   0.0   0.0   0.0  ...   \n1         0.0   0.0   0.0   0.0   0.0   0.0   0.0   0.0   0.0   0.0  ...   \n2         0.0   0.0   0.0   0.0   0.0   0.0   0.0   0.0   0.0   0.0  ...   \n3         0.0   0.0   0.0   0.0   0.0   0.0   0.0   0.0   0.0   0.0  ...   \n4         0.0   0.0   0.0   0.0   0.0   0.0   0.0   0.0   0.0   0.0  ...   \n5         0.0   0.0   0.0   0.0   0.0   0.0   0.0   0.0   0.0   1.0  ...   \n6         0.0   0.0   0.0   0.0   0.0   0.0   0.0   0.0   0.0   0.0  ...   \n7         0.0   0.0   0.0   0.0   0.0   0.0   0.0   0.0   0.0   0.0  ...   \n8         0.0   0.0   0.0   0.0   0.0   0.0   0.0   0.0   0.0   0.0  ...   \n9         0.0   0.0   0.0   0.0   0.0   0.0   0.0   0.0   0.0   0.0  ...   \n\nitem_id  4990  4991  4992  4993  4994  4995  4996  4997  4998  4999  \nuser_id                                                              \n0         0.0   0.0   0.0   0.0   0.0   0.0   0.0   0.0   0.0   0.0  \n1         0.0   0.0   0.0   0.0   0.0   0.0   0.0   0.0   0.0   0.0  \n2         0.0   0.0   0.0   0.0   0.0   0.0   0.0   0.0   1.0   0.0  \n3         0.0   0.0   0.0   0.0   0.0   0.0   0.0   0.0   0.0   0.0  \n4         0.0   0.0   0.0   0.0   0.0   0.0   0.0   0.0   0.0   0.0  \n5         0.0   0.0   0.0   0.0   0.0   0.0   0.0   0.0   0.0   0.0  \n6         0.0   0.0   0.0   0.0   0.0   0.0   0.0   0.0   0.0   0.0  \n7         0.0   0.0   0.0   0.0   0.0   0.0   0.0   0.0   0.0   0.0  \n8         0.0   0.0   0.0   0.0   0.0   0.0   0.0   0.0   0.0   0.0  \n9         0.0   0.0   0.0   0.0   0.0   0.0   0.0   0.0   0.0   0.0  \n\n[10 rows x 5000 columns]",
      "text/html": "<div>\n<style scoped>\n    .dataframe tbody tr th:only-of-type {\n        vertical-align: middle;\n    }\n\n    .dataframe tbody tr th {\n        vertical-align: top;\n    }\n\n    .dataframe thead th {\n        text-align: right;\n    }\n</style>\n<table border=\"1\" class=\"dataframe\">\n  <thead>\n    <tr style=\"text-align: right;\">\n      <th>item_id</th>\n      <th>0</th>\n      <th>1</th>\n      <th>2</th>\n      <th>3</th>\n      <th>4</th>\n      <th>5</th>\n      <th>6</th>\n      <th>7</th>\n      <th>8</th>\n      <th>9</th>\n      <th>...</th>\n      <th>4990</th>\n      <th>4991</th>\n      <th>4992</th>\n      <th>4993</th>\n      <th>4994</th>\n      <th>4995</th>\n      <th>4996</th>\n      <th>4997</th>\n      <th>4998</th>\n      <th>4999</th>\n    </tr>\n    <tr>\n      <th>user_id</th>\n      <th></th>\n      <th></th>\n      <th></th>\n      <th></th>\n      <th></th>\n      <th></th>\n      <th></th>\n      <th></th>\n      <th></th>\n      <th></th>\n      <th></th>\n      <th></th>\n      <th></th>\n      <th></th>\n      <th></th>\n      <th></th>\n      <th></th>\n      <th></th>\n      <th></th>\n      <th></th>\n      <th></th>\n    </tr>\n  </thead>\n  <tbody>\n    <tr>\n      <th>0</th>\n      <td>0.0</td>\n      <td>0.0</td>\n      <td>0.0</td>\n      <td>0.0</td>\n      <td>0.0</td>\n      <td>0.0</td>\n      <td>0.0</td>\n      <td>0.0</td>\n      <td>0.0</td>\n      <td>0.0</td>\n      <td>...</td>\n      <td>0.0</td>\n      <td>0.0</td>\n      <td>0.0</td>\n      <td>0.0</td>\n      <td>0.0</td>\n      <td>0.0</td>\n      <td>0.0</td>\n      <td>0.0</td>\n      <td>0.0</td>\n      <td>0.0</td>\n    </tr>\n    <tr>\n      <th>1</th>\n      <td>0.0</td>\n      <td>0.0</td>\n      <td>0.0</td>\n      <td>0.0</td>\n      <td>0.0</td>\n      <td>0.0</td>\n      <td>0.0</td>\n      <td>0.0</td>\n      <td>0.0</td>\n      <td>0.0</td>\n      <td>...</td>\n      <td>0.0</td>\n      <td>0.0</td>\n      <td>0.0</td>\n      <td>0.0</td>\n      <td>0.0</td>\n      <td>0.0</td>\n      <td>0.0</td>\n      <td>0.0</td>\n      <td>0.0</td>\n      <td>0.0</td>\n    </tr>\n    <tr>\n      <th>2</th>\n      <td>0.0</td>\n      <td>0.0</td>\n      <td>0.0</td>\n      <td>0.0</td>\n      <td>0.0</td>\n      <td>0.0</td>\n      <td>0.0</td>\n      <td>0.0</td>\n      <td>0.0</td>\n      <td>0.0</td>\n      <td>...</td>\n      <td>0.0</td>\n      <td>0.0</td>\n      <td>0.0</td>\n      <td>0.0</td>\n      <td>0.0</td>\n      <td>0.0</td>\n      <td>0.0</td>\n      <td>0.0</td>\n      <td>1.0</td>\n      <td>0.0</td>\n    </tr>\n    <tr>\n      <th>3</th>\n      <td>0.0</td>\n      <td>0.0</td>\n      <td>0.0</td>\n      <td>0.0</td>\n      <td>0.0</td>\n      <td>0.0</td>\n      <td>0.0</td>\n      <td>0.0</td>\n      <td>0.0</td>\n      <td>0.0</td>\n      <td>...</td>\n      <td>0.0</td>\n      <td>0.0</td>\n      <td>0.0</td>\n      <td>0.0</td>\n      <td>0.0</td>\n      <td>0.0</td>\n      <td>0.0</td>\n      <td>0.0</td>\n      <td>0.0</td>\n      <td>0.0</td>\n    </tr>\n    <tr>\n      <th>4</th>\n      <td>0.0</td>\n      <td>0.0</td>\n      <td>0.0</td>\n      <td>0.0</td>\n      <td>0.0</td>\n      <td>0.0</td>\n      <td>0.0</td>\n      <td>0.0</td>\n      <td>0.0</td>\n      <td>0.0</td>\n      <td>...</td>\n      <td>0.0</td>\n      <td>0.0</td>\n      <td>0.0</td>\n      <td>0.0</td>\n      <td>0.0</td>\n      <td>0.0</td>\n      <td>0.0</td>\n      <td>0.0</td>\n      <td>0.0</td>\n      <td>0.0</td>\n    </tr>\n    <tr>\n      <th>5</th>\n      <td>0.0</td>\n      <td>0.0</td>\n      <td>0.0</td>\n      <td>0.0</td>\n      <td>0.0</td>\n      <td>0.0</td>\n      <td>0.0</td>\n      <td>0.0</td>\n      <td>0.0</td>\n      <td>1.0</td>\n      <td>...</td>\n      <td>0.0</td>\n      <td>0.0</td>\n      <td>0.0</td>\n      <td>0.0</td>\n      <td>0.0</td>\n      <td>0.0</td>\n      <td>0.0</td>\n      <td>0.0</td>\n      <td>0.0</td>\n      <td>0.0</td>\n    </tr>\n    <tr>\n      <th>6</th>\n      <td>0.0</td>\n      <td>0.0</td>\n      <td>0.0</td>\n      <td>0.0</td>\n      <td>0.0</td>\n      <td>0.0</td>\n      <td>0.0</td>\n      <td>0.0</td>\n      <td>0.0</td>\n      <td>0.0</td>\n      <td>...</td>\n      <td>0.0</td>\n      <td>0.0</td>\n      <td>0.0</td>\n      <td>0.0</td>\n      <td>0.0</td>\n      <td>0.0</td>\n      <td>0.0</td>\n      <td>0.0</td>\n      <td>0.0</td>\n      <td>0.0</td>\n    </tr>\n    <tr>\n      <th>7</th>\n      <td>0.0</td>\n      <td>0.0</td>\n      <td>0.0</td>\n      <td>0.0</td>\n      <td>0.0</td>\n      <td>0.0</td>\n      <td>0.0</td>\n      <td>0.0</td>\n      <td>0.0</td>\n      <td>0.0</td>\n      <td>...</td>\n      <td>0.0</td>\n      <td>0.0</td>\n      <td>0.0</td>\n      <td>0.0</td>\n      <td>0.0</td>\n      <td>0.0</td>\n      <td>0.0</td>\n      <td>0.0</td>\n      <td>0.0</td>\n      <td>0.0</td>\n    </tr>\n    <tr>\n      <th>8</th>\n      <td>0.0</td>\n      <td>0.0</td>\n      <td>0.0</td>\n      <td>0.0</td>\n      <td>0.0</td>\n      <td>0.0</td>\n      <td>0.0</td>\n      <td>0.0</td>\n      <td>0.0</td>\n      <td>0.0</td>\n      <td>...</td>\n      <td>0.0</td>\n      <td>0.0</td>\n      <td>0.0</td>\n      <td>0.0</td>\n      <td>0.0</td>\n      <td>0.0</td>\n      <td>0.0</td>\n      <td>0.0</td>\n      <td>0.0</td>\n      <td>0.0</td>\n    </tr>\n    <tr>\n      <th>9</th>\n      <td>0.0</td>\n      <td>0.0</td>\n      <td>0.0</td>\n      <td>0.0</td>\n      <td>0.0</td>\n      <td>0.0</td>\n      <td>0.0</td>\n      <td>0.0</td>\n      <td>0.0</td>\n      <td>0.0</td>\n      <td>...</td>\n      <td>0.0</td>\n      <td>0.0</td>\n      <td>0.0</td>\n      <td>0.0</td>\n      <td>0.0</td>\n      <td>0.0</td>\n      <td>0.0</td>\n      <td>0.0</td>\n      <td>0.0</td>\n      <td>0.0</td>\n    </tr>\n  </tbody>\n</table>\n<p>10 rows × 5000 columns</p>\n</div>"
     },
     "execution_count": 4,
     "metadata": {},
     "output_type": "execute_result"
    }
   ],
   "source": [
    "user_rating = pd.pivot_table(data, index = 'user_id', columns= 'item_id', values= \"rating\").fillna(0)\n",
    "user_rating.head(10)"
   ],
   "metadata": {
    "collapsed": false,
    "pycharm": {
     "name": "#%%\n"
    }
   }
  },
  {
   "cell_type": "code",
   "execution_count": null,
   "outputs": [],
   "source": [
    "user_rating_re = user_rating\n",
    "user_rating_re.reset_index(inplace= True)"
   ],
   "metadata": {
    "collapsed": false,
    "pycharm": {
     "name": "#%%\n"
    }
   }
  },
  {
   "cell_type": "code",
   "execution_count": 37,
   "outputs": [],
   "source": [
    "magnitude = np.sqrt(np.square(user_rating).sum(axis = 1))\n",
    "user_rating_norm = user_rating.divide(magnitude, axis = 'index')"
   ],
   "metadata": {
    "collapsed": false,
    "pycharm": {
     "name": "#%%\n"
    }
   }
  },
  {
   "cell_type": "code",
   "execution_count": 38,
   "outputs": [],
   "source": [
    "user_rating_norm = user_rating_norm.drop(24)"
   ],
   "metadata": {
    "collapsed": false,
    "pycharm": {
     "name": "#%%\n"
    }
   }
  },
  {
   "cell_type": "code",
   "execution_count": 63,
   "outputs": [
    {
     "data": {
      "text/plain": "item_id  0     1     2     3     4     5     6     7     8         9     ...  \\\nuser_id                                                                  ...   \n0         0.0   0.0   0.0   0.0   0.0   0.0   0.0   0.0   0.0  0.000000  ...   \n1         0.0   0.0   0.0   0.0   0.0   0.0   0.0   0.0   0.0  0.000000  ...   \n2         0.0   0.0   0.0   0.0   0.0   0.0   0.0   0.0   0.0  0.000000  ...   \n3         0.0   0.0   0.0   0.0   0.0   0.0   0.0   0.0   0.0  0.000000  ...   \n4         0.0   0.0   0.0   0.0   0.0   0.0   0.0   0.0   0.0  0.000000  ...   \n5         0.0   0.0   0.0   0.0   0.0   0.0   0.0   0.0   0.0  0.133333  ...   \n6         0.0   0.0   0.0   0.0   0.0   0.0   0.0   0.0   0.0  0.000000  ...   \n7         0.0   0.0   0.0   0.0   0.0   0.0   0.0   0.0   0.0  0.000000  ...   \n8         0.0   0.0   0.0   0.0   0.0   0.0   0.0   0.0   0.0  0.000000  ...   \n9         0.0   0.0   0.0   0.0   0.0   0.0   0.0   0.0   0.0  0.000000  ...   \n10        0.0   0.0   0.0   0.0   0.0   0.0   0.0   0.0   0.0  0.000000  ...   \n11        0.0   0.0   0.0   0.0   0.0   0.0   0.0   0.0   0.0  0.000000  ...   \n12        0.0   0.0   0.0   0.0   0.0   0.0   0.0   0.0   0.0  0.137361  ...   \n13        0.0   0.0   0.0   0.0   0.0   0.0   0.0   0.0   0.0  0.000000  ...   \n14        0.0   0.0   0.0   0.0   0.0   0.0   0.0   0.0   0.0  0.000000  ...   \n15        0.0   0.0   0.0   0.0   0.0   0.0   0.0   0.0   0.0  0.000000  ...   \n16        0.0   0.0   0.0   0.0   0.0   0.0   0.0   0.0   0.0  0.000000  ...   \n17        0.0   0.0   0.0   0.0   0.0   0.0   0.0   0.0   0.0  0.000000  ...   \n18        0.0   0.0   0.0   0.0   0.0   0.0   0.0   0.0   0.0  0.000000  ...   \n19        0.0   0.0   0.0   0.0   0.0   0.0   0.0   0.0   0.0  0.000000  ...   \n20        0.0   0.0   0.0   0.0   0.0   0.0   0.0   0.0   0.0  0.000000  ...   \n21        0.0   0.0   0.0   0.0   0.0   0.0   0.0   0.0   0.0  0.000000  ...   \n22        0.0   0.0   0.0   0.0   0.0   0.0   0.0   0.0   0.0  0.000000  ...   \n23        0.0   0.0   0.0   0.0   0.0   0.0   0.0   0.0   0.0  0.000000  ...   \n25        0.0   0.0   0.0   0.0   0.0   0.0   0.0   0.0   0.0  0.000000  ...   \n\nitem_id  4990  4991  4992  4993  4994  4995  4996      4997      4998  4999  \nuser_id                                                                      \n0         0.0   0.0   0.0   0.0   0.0   0.0   0.0  0.000000  0.000000   0.0  \n1         0.0   0.0   0.0   0.0   0.0   0.0   0.0  0.000000  0.000000   0.0  \n2         0.0   0.0   0.0   0.0   0.0   0.0   0.0  0.000000  0.301511   0.0  \n3         0.0   0.0   0.0   0.0   0.0   0.0   0.0  0.000000  0.000000   0.0  \n4         0.0   0.0   0.0   0.0   0.0   0.0   0.0  0.000000  0.000000   0.0  \n5         0.0   0.0   0.0   0.0   0.0   0.0   0.0  0.000000  0.000000   0.0  \n6         0.0   0.0   0.0   0.0   0.0   0.0   0.0  0.000000  0.000000   0.0  \n7         0.0   0.0   0.0   0.0   0.0   0.0   0.0  0.000000  0.000000   0.0  \n8         0.0   0.0   0.0   0.0   0.0   0.0   0.0  0.000000  0.000000   0.0  \n9         0.0   0.0   0.0   0.0   0.0   0.0   0.0  0.000000  0.000000   0.0  \n10        0.0   0.0   0.0   0.0   0.0   0.0   0.0  0.000000  0.000000   0.0  \n11        0.0   0.0   0.0   0.0   0.0   0.0   0.0  0.000000  0.000000   0.0  \n12        0.0   0.0   0.0   0.0   0.0   0.0   0.0  0.000000  0.000000   0.0  \n13        0.0   0.0   0.0   0.0   0.0   0.0   0.0  0.000000  0.000000   0.0  \n14        0.0   0.0   0.0   0.0   0.0   0.0   0.0  0.000000  0.000000   0.0  \n15        0.0   0.0   0.0   0.0   0.0   0.0   0.0  0.000000  0.000000   0.0  \n16        0.0   0.0   0.0   0.0   0.0   0.0   0.0  0.000000  0.000000   0.0  \n17        0.0   0.0   0.0   0.0   0.0   0.0   0.0  0.000000  0.000000   0.0  \n18        0.0   0.0   0.0   0.0   0.0   0.0   0.0  0.000000  0.000000   0.0  \n19        0.0   0.0   0.0   0.0   0.0   0.0   0.0  0.000000  0.000000   0.0  \n20        0.0   0.0   0.0   0.0   0.0   0.0   0.0  0.218218  0.000000   0.0  \n21        0.0   0.0   0.0   0.0   0.0   0.0   0.0  0.000000  0.000000   0.0  \n22        0.0   0.0   0.0   0.0   0.0   0.0   0.0  0.000000  0.000000   0.0  \n23        0.0   0.0   0.0   0.0   0.0   0.0   0.0  0.000000  0.000000   0.0  \n25        0.0   0.0   0.0   0.0   0.0   0.0   0.0  0.000000  0.000000   0.0  \n\n[25 rows x 5000 columns]",
      "text/html": "<div>\n<style scoped>\n    .dataframe tbody tr th:only-of-type {\n        vertical-align: middle;\n    }\n\n    .dataframe tbody tr th {\n        vertical-align: top;\n    }\n\n    .dataframe thead th {\n        text-align: right;\n    }\n</style>\n<table border=\"1\" class=\"dataframe\">\n  <thead>\n    <tr style=\"text-align: right;\">\n      <th>item_id</th>\n      <th>0</th>\n      <th>1</th>\n      <th>2</th>\n      <th>3</th>\n      <th>4</th>\n      <th>5</th>\n      <th>6</th>\n      <th>7</th>\n      <th>8</th>\n      <th>9</th>\n      <th>...</th>\n      <th>4990</th>\n      <th>4991</th>\n      <th>4992</th>\n      <th>4993</th>\n      <th>4994</th>\n      <th>4995</th>\n      <th>4996</th>\n      <th>4997</th>\n      <th>4998</th>\n      <th>4999</th>\n    </tr>\n    <tr>\n      <th>user_id</th>\n      <th></th>\n      <th></th>\n      <th></th>\n      <th></th>\n      <th></th>\n      <th></th>\n      <th></th>\n      <th></th>\n      <th></th>\n      <th></th>\n      <th></th>\n      <th></th>\n      <th></th>\n      <th></th>\n      <th></th>\n      <th></th>\n      <th></th>\n      <th></th>\n      <th></th>\n      <th></th>\n      <th></th>\n    </tr>\n  </thead>\n  <tbody>\n    <tr>\n      <th>0</th>\n      <td>0.0</td>\n      <td>0.0</td>\n      <td>0.0</td>\n      <td>0.0</td>\n      <td>0.0</td>\n      <td>0.0</td>\n      <td>0.0</td>\n      <td>0.0</td>\n      <td>0.0</td>\n      <td>0.000000</td>\n      <td>...</td>\n      <td>0.0</td>\n      <td>0.0</td>\n      <td>0.0</td>\n      <td>0.0</td>\n      <td>0.0</td>\n      <td>0.0</td>\n      <td>0.0</td>\n      <td>0.000000</td>\n      <td>0.000000</td>\n      <td>0.0</td>\n    </tr>\n    <tr>\n      <th>1</th>\n      <td>0.0</td>\n      <td>0.0</td>\n      <td>0.0</td>\n      <td>0.0</td>\n      <td>0.0</td>\n      <td>0.0</td>\n      <td>0.0</td>\n      <td>0.0</td>\n      <td>0.0</td>\n      <td>0.000000</td>\n      <td>...</td>\n      <td>0.0</td>\n      <td>0.0</td>\n      <td>0.0</td>\n      <td>0.0</td>\n      <td>0.0</td>\n      <td>0.0</td>\n      <td>0.0</td>\n      <td>0.000000</td>\n      <td>0.000000</td>\n      <td>0.0</td>\n    </tr>\n    <tr>\n      <th>2</th>\n      <td>0.0</td>\n      <td>0.0</td>\n      <td>0.0</td>\n      <td>0.0</td>\n      <td>0.0</td>\n      <td>0.0</td>\n      <td>0.0</td>\n      <td>0.0</td>\n      <td>0.0</td>\n      <td>0.000000</td>\n      <td>...</td>\n      <td>0.0</td>\n      <td>0.0</td>\n      <td>0.0</td>\n      <td>0.0</td>\n      <td>0.0</td>\n      <td>0.0</td>\n      <td>0.0</td>\n      <td>0.000000</td>\n      <td>0.301511</td>\n      <td>0.0</td>\n    </tr>\n    <tr>\n      <th>3</th>\n      <td>0.0</td>\n      <td>0.0</td>\n      <td>0.0</td>\n      <td>0.0</td>\n      <td>0.0</td>\n      <td>0.0</td>\n      <td>0.0</td>\n      <td>0.0</td>\n      <td>0.0</td>\n      <td>0.000000</td>\n      <td>...</td>\n      <td>0.0</td>\n      <td>0.0</td>\n      <td>0.0</td>\n      <td>0.0</td>\n      <td>0.0</td>\n      <td>0.0</td>\n      <td>0.0</td>\n      <td>0.000000</td>\n      <td>0.000000</td>\n      <td>0.0</td>\n    </tr>\n    <tr>\n      <th>4</th>\n      <td>0.0</td>\n      <td>0.0</td>\n      <td>0.0</td>\n      <td>0.0</td>\n      <td>0.0</td>\n      <td>0.0</td>\n      <td>0.0</td>\n      <td>0.0</td>\n      <td>0.0</td>\n      <td>0.000000</td>\n      <td>...</td>\n      <td>0.0</td>\n      <td>0.0</td>\n      <td>0.0</td>\n      <td>0.0</td>\n      <td>0.0</td>\n      <td>0.0</td>\n      <td>0.0</td>\n      <td>0.000000</td>\n      <td>0.000000</td>\n      <td>0.0</td>\n    </tr>\n    <tr>\n      <th>5</th>\n      <td>0.0</td>\n      <td>0.0</td>\n      <td>0.0</td>\n      <td>0.0</td>\n      <td>0.0</td>\n      <td>0.0</td>\n      <td>0.0</td>\n      <td>0.0</td>\n      <td>0.0</td>\n      <td>0.133333</td>\n      <td>...</td>\n      <td>0.0</td>\n      <td>0.0</td>\n      <td>0.0</td>\n      <td>0.0</td>\n      <td>0.0</td>\n      <td>0.0</td>\n      <td>0.0</td>\n      <td>0.000000</td>\n      <td>0.000000</td>\n      <td>0.0</td>\n    </tr>\n    <tr>\n      <th>6</th>\n      <td>0.0</td>\n      <td>0.0</td>\n      <td>0.0</td>\n      <td>0.0</td>\n      <td>0.0</td>\n      <td>0.0</td>\n      <td>0.0</td>\n      <td>0.0</td>\n      <td>0.0</td>\n      <td>0.000000</td>\n      <td>...</td>\n      <td>0.0</td>\n      <td>0.0</td>\n      <td>0.0</td>\n      <td>0.0</td>\n      <td>0.0</td>\n      <td>0.0</td>\n      <td>0.0</td>\n      <td>0.000000</td>\n      <td>0.000000</td>\n      <td>0.0</td>\n    </tr>\n    <tr>\n      <th>7</th>\n      <td>0.0</td>\n      <td>0.0</td>\n      <td>0.0</td>\n      <td>0.0</td>\n      <td>0.0</td>\n      <td>0.0</td>\n      <td>0.0</td>\n      <td>0.0</td>\n      <td>0.0</td>\n      <td>0.000000</td>\n      <td>...</td>\n      <td>0.0</td>\n      <td>0.0</td>\n      <td>0.0</td>\n      <td>0.0</td>\n      <td>0.0</td>\n      <td>0.0</td>\n      <td>0.0</td>\n      <td>0.000000</td>\n      <td>0.000000</td>\n      <td>0.0</td>\n    </tr>\n    <tr>\n      <th>8</th>\n      <td>0.0</td>\n      <td>0.0</td>\n      <td>0.0</td>\n      <td>0.0</td>\n      <td>0.0</td>\n      <td>0.0</td>\n      <td>0.0</td>\n      <td>0.0</td>\n      <td>0.0</td>\n      <td>0.000000</td>\n      <td>...</td>\n      <td>0.0</td>\n      <td>0.0</td>\n      <td>0.0</td>\n      <td>0.0</td>\n      <td>0.0</td>\n      <td>0.0</td>\n      <td>0.0</td>\n      <td>0.000000</td>\n      <td>0.000000</td>\n      <td>0.0</td>\n    </tr>\n    <tr>\n      <th>9</th>\n      <td>0.0</td>\n      <td>0.0</td>\n      <td>0.0</td>\n      <td>0.0</td>\n      <td>0.0</td>\n      <td>0.0</td>\n      <td>0.0</td>\n      <td>0.0</td>\n      <td>0.0</td>\n      <td>0.000000</td>\n      <td>...</td>\n      <td>0.0</td>\n      <td>0.0</td>\n      <td>0.0</td>\n      <td>0.0</td>\n      <td>0.0</td>\n      <td>0.0</td>\n      <td>0.0</td>\n      <td>0.000000</td>\n      <td>0.000000</td>\n      <td>0.0</td>\n    </tr>\n    <tr>\n      <th>10</th>\n      <td>0.0</td>\n      <td>0.0</td>\n      <td>0.0</td>\n      <td>0.0</td>\n      <td>0.0</td>\n      <td>0.0</td>\n      <td>0.0</td>\n      <td>0.0</td>\n      <td>0.0</td>\n      <td>0.000000</td>\n      <td>...</td>\n      <td>0.0</td>\n      <td>0.0</td>\n      <td>0.0</td>\n      <td>0.0</td>\n      <td>0.0</td>\n      <td>0.0</td>\n      <td>0.0</td>\n      <td>0.000000</td>\n      <td>0.000000</td>\n      <td>0.0</td>\n    </tr>\n    <tr>\n      <th>11</th>\n      <td>0.0</td>\n      <td>0.0</td>\n      <td>0.0</td>\n      <td>0.0</td>\n      <td>0.0</td>\n      <td>0.0</td>\n      <td>0.0</td>\n      <td>0.0</td>\n      <td>0.0</td>\n      <td>0.000000</td>\n      <td>...</td>\n      <td>0.0</td>\n      <td>0.0</td>\n      <td>0.0</td>\n      <td>0.0</td>\n      <td>0.0</td>\n      <td>0.0</td>\n      <td>0.0</td>\n      <td>0.000000</td>\n      <td>0.000000</td>\n      <td>0.0</td>\n    </tr>\n    <tr>\n      <th>12</th>\n      <td>0.0</td>\n      <td>0.0</td>\n      <td>0.0</td>\n      <td>0.0</td>\n      <td>0.0</td>\n      <td>0.0</td>\n      <td>0.0</td>\n      <td>0.0</td>\n      <td>0.0</td>\n      <td>0.137361</td>\n      <td>...</td>\n      <td>0.0</td>\n      <td>0.0</td>\n      <td>0.0</td>\n      <td>0.0</td>\n      <td>0.0</td>\n      <td>0.0</td>\n      <td>0.0</td>\n      <td>0.000000</td>\n      <td>0.000000</td>\n      <td>0.0</td>\n    </tr>\n    <tr>\n      <th>13</th>\n      <td>0.0</td>\n      <td>0.0</td>\n      <td>0.0</td>\n      <td>0.0</td>\n      <td>0.0</td>\n      <td>0.0</td>\n      <td>0.0</td>\n      <td>0.0</td>\n      <td>0.0</td>\n      <td>0.000000</td>\n      <td>...</td>\n      <td>0.0</td>\n      <td>0.0</td>\n      <td>0.0</td>\n      <td>0.0</td>\n      <td>0.0</td>\n      <td>0.0</td>\n      <td>0.0</td>\n      <td>0.000000</td>\n      <td>0.000000</td>\n      <td>0.0</td>\n    </tr>\n    <tr>\n      <th>14</th>\n      <td>0.0</td>\n      <td>0.0</td>\n      <td>0.0</td>\n      <td>0.0</td>\n      <td>0.0</td>\n      <td>0.0</td>\n      <td>0.0</td>\n      <td>0.0</td>\n      <td>0.0</td>\n      <td>0.000000</td>\n      <td>...</td>\n      <td>0.0</td>\n      <td>0.0</td>\n      <td>0.0</td>\n      <td>0.0</td>\n      <td>0.0</td>\n      <td>0.0</td>\n      <td>0.0</td>\n      <td>0.000000</td>\n      <td>0.000000</td>\n      <td>0.0</td>\n    </tr>\n    <tr>\n      <th>15</th>\n      <td>0.0</td>\n      <td>0.0</td>\n      <td>0.0</td>\n      <td>0.0</td>\n      <td>0.0</td>\n      <td>0.0</td>\n      <td>0.0</td>\n      <td>0.0</td>\n      <td>0.0</td>\n      <td>0.000000</td>\n      <td>...</td>\n      <td>0.0</td>\n      <td>0.0</td>\n      <td>0.0</td>\n      <td>0.0</td>\n      <td>0.0</td>\n      <td>0.0</td>\n      <td>0.0</td>\n      <td>0.000000</td>\n      <td>0.000000</td>\n      <td>0.0</td>\n    </tr>\n    <tr>\n      <th>16</th>\n      <td>0.0</td>\n      <td>0.0</td>\n      <td>0.0</td>\n      <td>0.0</td>\n      <td>0.0</td>\n      <td>0.0</td>\n      <td>0.0</td>\n      <td>0.0</td>\n      <td>0.0</td>\n      <td>0.000000</td>\n      <td>...</td>\n      <td>0.0</td>\n      <td>0.0</td>\n      <td>0.0</td>\n      <td>0.0</td>\n      <td>0.0</td>\n      <td>0.0</td>\n      <td>0.0</td>\n      <td>0.000000</td>\n      <td>0.000000</td>\n      <td>0.0</td>\n    </tr>\n    <tr>\n      <th>17</th>\n      <td>0.0</td>\n      <td>0.0</td>\n      <td>0.0</td>\n      <td>0.0</td>\n      <td>0.0</td>\n      <td>0.0</td>\n      <td>0.0</td>\n      <td>0.0</td>\n      <td>0.0</td>\n      <td>0.000000</td>\n      <td>...</td>\n      <td>0.0</td>\n      <td>0.0</td>\n      <td>0.0</td>\n      <td>0.0</td>\n      <td>0.0</td>\n      <td>0.0</td>\n      <td>0.0</td>\n      <td>0.000000</td>\n      <td>0.000000</td>\n      <td>0.0</td>\n    </tr>\n    <tr>\n      <th>18</th>\n      <td>0.0</td>\n      <td>0.0</td>\n      <td>0.0</td>\n      <td>0.0</td>\n      <td>0.0</td>\n      <td>0.0</td>\n      <td>0.0</td>\n      <td>0.0</td>\n      <td>0.0</td>\n      <td>0.000000</td>\n      <td>...</td>\n      <td>0.0</td>\n      <td>0.0</td>\n      <td>0.0</td>\n      <td>0.0</td>\n      <td>0.0</td>\n      <td>0.0</td>\n      <td>0.0</td>\n      <td>0.000000</td>\n      <td>0.000000</td>\n      <td>0.0</td>\n    </tr>\n    <tr>\n      <th>19</th>\n      <td>0.0</td>\n      <td>0.0</td>\n      <td>0.0</td>\n      <td>0.0</td>\n      <td>0.0</td>\n      <td>0.0</td>\n      <td>0.0</td>\n      <td>0.0</td>\n      <td>0.0</td>\n      <td>0.000000</td>\n      <td>...</td>\n      <td>0.0</td>\n      <td>0.0</td>\n      <td>0.0</td>\n      <td>0.0</td>\n      <td>0.0</td>\n      <td>0.0</td>\n      <td>0.0</td>\n      <td>0.000000</td>\n      <td>0.000000</td>\n      <td>0.0</td>\n    </tr>\n    <tr>\n      <th>20</th>\n      <td>0.0</td>\n      <td>0.0</td>\n      <td>0.0</td>\n      <td>0.0</td>\n      <td>0.0</td>\n      <td>0.0</td>\n      <td>0.0</td>\n      <td>0.0</td>\n      <td>0.0</td>\n      <td>0.000000</td>\n      <td>...</td>\n      <td>0.0</td>\n      <td>0.0</td>\n      <td>0.0</td>\n      <td>0.0</td>\n      <td>0.0</td>\n      <td>0.0</td>\n      <td>0.0</td>\n      <td>0.218218</td>\n      <td>0.000000</td>\n      <td>0.0</td>\n    </tr>\n    <tr>\n      <th>21</th>\n      <td>0.0</td>\n      <td>0.0</td>\n      <td>0.0</td>\n      <td>0.0</td>\n      <td>0.0</td>\n      <td>0.0</td>\n      <td>0.0</td>\n      <td>0.0</td>\n      <td>0.0</td>\n      <td>0.000000</td>\n      <td>...</td>\n      <td>0.0</td>\n      <td>0.0</td>\n      <td>0.0</td>\n      <td>0.0</td>\n      <td>0.0</td>\n      <td>0.0</td>\n      <td>0.0</td>\n      <td>0.000000</td>\n      <td>0.000000</td>\n      <td>0.0</td>\n    </tr>\n    <tr>\n      <th>22</th>\n      <td>0.0</td>\n      <td>0.0</td>\n      <td>0.0</td>\n      <td>0.0</td>\n      <td>0.0</td>\n      <td>0.0</td>\n      <td>0.0</td>\n      <td>0.0</td>\n      <td>0.0</td>\n      <td>0.000000</td>\n      <td>...</td>\n      <td>0.0</td>\n      <td>0.0</td>\n      <td>0.0</td>\n      <td>0.0</td>\n      <td>0.0</td>\n      <td>0.0</td>\n      <td>0.0</td>\n      <td>0.000000</td>\n      <td>0.000000</td>\n      <td>0.0</td>\n    </tr>\n    <tr>\n      <th>23</th>\n      <td>0.0</td>\n      <td>0.0</td>\n      <td>0.0</td>\n      <td>0.0</td>\n      <td>0.0</td>\n      <td>0.0</td>\n      <td>0.0</td>\n      <td>0.0</td>\n      <td>0.0</td>\n      <td>0.000000</td>\n      <td>...</td>\n      <td>0.0</td>\n      <td>0.0</td>\n      <td>0.0</td>\n      <td>0.0</td>\n      <td>0.0</td>\n      <td>0.0</td>\n      <td>0.0</td>\n      <td>0.000000</td>\n      <td>0.000000</td>\n      <td>0.0</td>\n    </tr>\n    <tr>\n      <th>25</th>\n      <td>0.0</td>\n      <td>0.0</td>\n      <td>0.0</td>\n      <td>0.0</td>\n      <td>0.0</td>\n      <td>0.0</td>\n      <td>0.0</td>\n      <td>0.0</td>\n      <td>0.0</td>\n      <td>0.000000</td>\n      <td>...</td>\n      <td>0.0</td>\n      <td>0.0</td>\n      <td>0.0</td>\n      <td>0.0</td>\n      <td>0.0</td>\n      <td>0.0</td>\n      <td>0.0</td>\n      <td>0.000000</td>\n      <td>0.000000</td>\n      <td>0.0</td>\n    </tr>\n  </tbody>\n</table>\n<p>25 rows × 5000 columns</p>\n</div>"
     },
     "execution_count": 63,
     "metadata": {},
     "output_type": "execute_result"
    }
   ],
   "source": [
    "user_rating_norm.head(25)"
   ],
   "metadata": {
    "collapsed": false,
    "pycharm": {
     "name": "#%%\n"
    }
   }
  },
  {
   "cell_type": "code",
   "execution_count": 42,
   "outputs": [
    {
     "data": {
      "text/plain": "item_id      0         1         2         3         4         5         6     \\\nitem_id                                                                         \n0        1.000000  0.000000  0.000000  0.016951  0.014354  0.008242  0.036900   \n1        0.000000  1.000000  0.000000  0.000000  0.025416  0.014595  0.000000   \n2        0.000000  0.000000  1.000000  0.000000  0.000000  0.000000  0.000000   \n3        0.016951  0.000000  0.000000  1.000000  0.000000  0.000000  0.000000   \n4        0.014354  0.025416  0.000000  0.000000  1.000000  0.008903  0.000000   \n...           ...       ...       ...       ...       ...       ...       ...   \n4995     0.018400  0.000000  0.000000  0.000000  0.019875  0.000000  0.020437   \n4996     0.000000  0.007504  0.017420  0.010811  0.000000  0.015770  0.000000   \n4997     0.042952  0.000000  0.033106  0.000000  0.011598  0.019980  0.000000   \n4998     0.000000  0.012113  0.000000  0.000000  0.000000  0.008485  0.015195   \n4999     0.020067  0.017767  0.000000  0.025597  0.000000  0.024893  0.000000   \n\nitem_id      7         8         9     ...      4990      4991      4992  \\\nitem_id                                ...                                 \n0        0.000000  0.014677  0.020135  ...  0.012985  0.000000  0.000000   \n1        0.010513  0.012995  0.017827  ...  0.017245  0.015246  0.000000   \n2        0.012203  0.033938  0.020693  ...  0.006672  0.017697  0.018066   \n3        0.000000  0.000000  0.000000  ...  0.016563  0.010983  0.000000   \n4        0.012826  0.015853  0.028998  ...  0.021038  0.018600  0.000000   \n...           ...       ...       ...  ...       ...       ...       ...   \n4995     0.000000  0.010161  0.009293  ...  0.026970  0.000000  0.024341   \n4996     0.022719  0.014041  0.021403  ...  0.028986  0.021966  0.044848   \n4997     0.009595  0.011860  0.010847  ...  0.036724  0.000000  0.014205   \n4998     0.024449  0.011333  0.027639  ...  0.033421  0.017728  0.000000   \n4999     0.000000  0.000000  0.020270  ...  0.009804  0.013002  0.000000   \n\nitem_id      4993      4994      4995      4996      4997      4998      4999  \nitem_id                                                                        \n0        0.031636  0.011874  0.018400  0.000000  0.042952  0.000000  0.020067  \n1        0.000000  0.031539  0.000000  0.007504  0.000000  0.012113  0.017767  \n2        0.010837  0.012203  0.000000  0.017420  0.033106  0.000000  0.000000  \n3        0.026902  0.015146  0.000000  0.010811  0.000000  0.000000  0.025597  \n4        0.022781  0.032064  0.019875  0.000000  0.011598  0.000000  0.000000  \n...           ...       ...       ...       ...       ...       ...       ...  \n4995     0.000000  0.000000  1.000000  0.023471  0.000000  0.000000  0.027786  \n4996     0.023540  0.022719  0.023471  1.000000  0.020545  0.017451  0.012798  \n4997     0.017042  0.009595  0.000000  0.020545  1.000000  0.000000  0.000000  \n4998     0.021713  0.012224  0.000000  0.017451  0.000000  1.000000  0.000000  \n4999     0.015924  0.017931  0.027786  0.012798  0.000000  0.000000  1.000000  \n\n[5000 rows x 5000 columns]",
      "text/html": "<div>\n<style scoped>\n    .dataframe tbody tr th:only-of-type {\n        vertical-align: middle;\n    }\n\n    .dataframe tbody tr th {\n        vertical-align: top;\n    }\n\n    .dataframe thead th {\n        text-align: right;\n    }\n</style>\n<table border=\"1\" class=\"dataframe\">\n  <thead>\n    <tr style=\"text-align: right;\">\n      <th>item_id</th>\n      <th>0</th>\n      <th>1</th>\n      <th>2</th>\n      <th>3</th>\n      <th>4</th>\n      <th>5</th>\n      <th>6</th>\n      <th>7</th>\n      <th>8</th>\n      <th>9</th>\n      <th>...</th>\n      <th>4990</th>\n      <th>4991</th>\n      <th>4992</th>\n      <th>4993</th>\n      <th>4994</th>\n      <th>4995</th>\n      <th>4996</th>\n      <th>4997</th>\n      <th>4998</th>\n      <th>4999</th>\n    </tr>\n    <tr>\n      <th>item_id</th>\n      <th></th>\n      <th></th>\n      <th></th>\n      <th></th>\n      <th></th>\n      <th></th>\n      <th></th>\n      <th></th>\n      <th></th>\n      <th></th>\n      <th></th>\n      <th></th>\n      <th></th>\n      <th></th>\n      <th></th>\n      <th></th>\n      <th></th>\n      <th></th>\n      <th></th>\n      <th></th>\n      <th></th>\n    </tr>\n  </thead>\n  <tbody>\n    <tr>\n      <th>0</th>\n      <td>1.000000</td>\n      <td>0.000000</td>\n      <td>0.000000</td>\n      <td>0.016951</td>\n      <td>0.014354</td>\n      <td>0.008242</td>\n      <td>0.036900</td>\n      <td>0.000000</td>\n      <td>0.014677</td>\n      <td>0.020135</td>\n      <td>...</td>\n      <td>0.012985</td>\n      <td>0.000000</td>\n      <td>0.000000</td>\n      <td>0.031636</td>\n      <td>0.011874</td>\n      <td>0.018400</td>\n      <td>0.000000</td>\n      <td>0.042952</td>\n      <td>0.000000</td>\n      <td>0.020067</td>\n    </tr>\n    <tr>\n      <th>1</th>\n      <td>0.000000</td>\n      <td>1.000000</td>\n      <td>0.000000</td>\n      <td>0.000000</td>\n      <td>0.025416</td>\n      <td>0.014595</td>\n      <td>0.000000</td>\n      <td>0.010513</td>\n      <td>0.012995</td>\n      <td>0.017827</td>\n      <td>...</td>\n      <td>0.017245</td>\n      <td>0.015246</td>\n      <td>0.000000</td>\n      <td>0.000000</td>\n      <td>0.031539</td>\n      <td>0.000000</td>\n      <td>0.007504</td>\n      <td>0.000000</td>\n      <td>0.012113</td>\n      <td>0.017767</td>\n    </tr>\n    <tr>\n      <th>2</th>\n      <td>0.000000</td>\n      <td>0.000000</td>\n      <td>1.000000</td>\n      <td>0.000000</td>\n      <td>0.000000</td>\n      <td>0.000000</td>\n      <td>0.000000</td>\n      <td>0.012203</td>\n      <td>0.033938</td>\n      <td>0.020693</td>\n      <td>...</td>\n      <td>0.006672</td>\n      <td>0.017697</td>\n      <td>0.018066</td>\n      <td>0.010837</td>\n      <td>0.012203</td>\n      <td>0.000000</td>\n      <td>0.017420</td>\n      <td>0.033106</td>\n      <td>0.000000</td>\n      <td>0.000000</td>\n    </tr>\n    <tr>\n      <th>3</th>\n      <td>0.016951</td>\n      <td>0.000000</td>\n      <td>0.000000</td>\n      <td>1.000000</td>\n      <td>0.000000</td>\n      <td>0.000000</td>\n      <td>0.000000</td>\n      <td>0.000000</td>\n      <td>0.000000</td>\n      <td>0.000000</td>\n      <td>...</td>\n      <td>0.016563</td>\n      <td>0.010983</td>\n      <td>0.000000</td>\n      <td>0.026902</td>\n      <td>0.015146</td>\n      <td>0.000000</td>\n      <td>0.010811</td>\n      <td>0.000000</td>\n      <td>0.000000</td>\n      <td>0.025597</td>\n    </tr>\n    <tr>\n      <th>4</th>\n      <td>0.014354</td>\n      <td>0.025416</td>\n      <td>0.000000</td>\n      <td>0.000000</td>\n      <td>1.000000</td>\n      <td>0.008903</td>\n      <td>0.000000</td>\n      <td>0.012826</td>\n      <td>0.015853</td>\n      <td>0.028998</td>\n      <td>...</td>\n      <td>0.021038</td>\n      <td>0.018600</td>\n      <td>0.000000</td>\n      <td>0.022781</td>\n      <td>0.032064</td>\n      <td>0.019875</td>\n      <td>0.000000</td>\n      <td>0.011598</td>\n      <td>0.000000</td>\n      <td>0.000000</td>\n    </tr>\n    <tr>\n      <th>...</th>\n      <td>...</td>\n      <td>...</td>\n      <td>...</td>\n      <td>...</td>\n      <td>...</td>\n      <td>...</td>\n      <td>...</td>\n      <td>...</td>\n      <td>...</td>\n      <td>...</td>\n      <td>...</td>\n      <td>...</td>\n      <td>...</td>\n      <td>...</td>\n      <td>...</td>\n      <td>...</td>\n      <td>...</td>\n      <td>...</td>\n      <td>...</td>\n      <td>...</td>\n      <td>...</td>\n    </tr>\n    <tr>\n      <th>4995</th>\n      <td>0.018400</td>\n      <td>0.000000</td>\n      <td>0.000000</td>\n      <td>0.000000</td>\n      <td>0.019875</td>\n      <td>0.000000</td>\n      <td>0.020437</td>\n      <td>0.000000</td>\n      <td>0.010161</td>\n      <td>0.009293</td>\n      <td>...</td>\n      <td>0.026970</td>\n      <td>0.000000</td>\n      <td>0.024341</td>\n      <td>0.000000</td>\n      <td>0.000000</td>\n      <td>1.000000</td>\n      <td>0.023471</td>\n      <td>0.000000</td>\n      <td>0.000000</td>\n      <td>0.027786</td>\n    </tr>\n    <tr>\n      <th>4996</th>\n      <td>0.000000</td>\n      <td>0.007504</td>\n      <td>0.017420</td>\n      <td>0.010811</td>\n      <td>0.000000</td>\n      <td>0.015770</td>\n      <td>0.000000</td>\n      <td>0.022719</td>\n      <td>0.014041</td>\n      <td>0.021403</td>\n      <td>...</td>\n      <td>0.028986</td>\n      <td>0.021966</td>\n      <td>0.044848</td>\n      <td>0.023540</td>\n      <td>0.022719</td>\n      <td>0.023471</td>\n      <td>1.000000</td>\n      <td>0.020545</td>\n      <td>0.017451</td>\n      <td>0.012798</td>\n    </tr>\n    <tr>\n      <th>4997</th>\n      <td>0.042952</td>\n      <td>0.000000</td>\n      <td>0.033106</td>\n      <td>0.000000</td>\n      <td>0.011598</td>\n      <td>0.019980</td>\n      <td>0.000000</td>\n      <td>0.009595</td>\n      <td>0.011860</td>\n      <td>0.010847</td>\n      <td>...</td>\n      <td>0.036724</td>\n      <td>0.000000</td>\n      <td>0.014205</td>\n      <td>0.017042</td>\n      <td>0.009595</td>\n      <td>0.000000</td>\n      <td>0.020545</td>\n      <td>1.000000</td>\n      <td>0.000000</td>\n      <td>0.000000</td>\n    </tr>\n    <tr>\n      <th>4998</th>\n      <td>0.000000</td>\n      <td>0.012113</td>\n      <td>0.000000</td>\n      <td>0.000000</td>\n      <td>0.000000</td>\n      <td>0.008485</td>\n      <td>0.015195</td>\n      <td>0.024449</td>\n      <td>0.011333</td>\n      <td>0.027639</td>\n      <td>...</td>\n      <td>0.033421</td>\n      <td>0.017728</td>\n      <td>0.000000</td>\n      <td>0.021713</td>\n      <td>0.012224</td>\n      <td>0.000000</td>\n      <td>0.017451</td>\n      <td>0.000000</td>\n      <td>1.000000</td>\n      <td>0.000000</td>\n    </tr>\n    <tr>\n      <th>4999</th>\n      <td>0.020067</td>\n      <td>0.017767</td>\n      <td>0.000000</td>\n      <td>0.025597</td>\n      <td>0.000000</td>\n      <td>0.024893</td>\n      <td>0.000000</td>\n      <td>0.000000</td>\n      <td>0.000000</td>\n      <td>0.020270</td>\n      <td>...</td>\n      <td>0.009804</td>\n      <td>0.013002</td>\n      <td>0.000000</td>\n      <td>0.015924</td>\n      <td>0.017931</td>\n      <td>0.027786</td>\n      <td>0.012798</td>\n      <td>0.000000</td>\n      <td>0.000000</td>\n      <td>1.000000</td>\n    </tr>\n  </tbody>\n</table>\n<p>5000 rows × 5000 columns</p>\n</div>"
     },
     "execution_count": 42,
     "metadata": {},
     "output_type": "execute_result"
    }
   ],
   "source": [
    "def similarity(data):\n",
    "    sparse_mat = csr_matrix(data)\n",
    "    similarities = cosine_similarity(sparse_mat.transpose())\n",
    "    df = pd.DataFrame(similarities, index= data.columns, columns= data.columns)\n",
    "    return  df\n",
    "sim_mat = similarity(user_rating)\n",
    "sim_mat"
   ],
   "metadata": {
    "collapsed": false,
    "pycharm": {
     "name": "#%%\n"
    }
   }
  },
  {
   "cell_type": "code",
   "execution_count": 64,
   "outputs": [],
   "source": [
    "neighbour_mat = pd.DataFrame(index= sim_mat.columns,columns=range(1,11))\n",
    "for i in range(0, len(sim_mat.columns)):\n",
    "    neighbour_mat.iloc[i,:10] = sim_mat.iloc[0:,i].sort_values(ascending= False)[:10].index\n",
    "\n",
    "def top_n_rec(user):\n",
    "    u_id = user_rating_re[user_rating_re.user_id == user].index.tolist()[0]\n",
    "    user_liked_item = user_rating_norm.iloc[u_id]\n",
    "    user_liked_item = user_liked_item[user_liked_item > 0].index.values\n",
    "    similar_to_likes = neighbour_mat.iloc[user_liked_item]\n",
    "    sim_list = similar_to_likes.values.tolist()\n",
    "    sim_list = list(set(item for sublist in sim_list for item in sublist))\n",
    "    neighbour = sim_mat[sim_list].iloc[sim_list]\n",
    "    user_vector = user_rating_norm.iloc[u_id].iloc[sim_list]\n",
    "    score = neighbour.dot(user_vector).div(neighbour.sum(axis = 1))\n",
    "    score = score.drop(user_liked_item)\n",
    "    return user_liked_item, score"
   ],
   "metadata": {
    "collapsed": false,
    "pycharm": {
     "name": "#%%\n"
    }
   }
  },
  {
   "cell_type": "code",
   "execution_count": 65,
   "outputs": [],
   "source": [
    "l, p = top_n_rec(5)"
   ],
   "metadata": {
    "collapsed": false,
    "pycharm": {
     "name": "#%%\n"
    }
   }
  },
  {
   "cell_type": "code",
   "execution_count": 81,
   "outputs": [
    {
     "name": "stdout",
     "output_type": "stream",
     "text": [
      "item_id\n",
      "2967    0.006702\n",
      "14      0.006384\n",
      "3568    0.005241\n",
      "1046    0.002475\n",
      "1192    0.002465\n",
      "3229    0.002462\n",
      "675     0.002421\n",
      "1839    0.002345\n",
      "3447    0.002336\n",
      "2255    0.002313\n",
      "dtype: float64\n"
     ]
    }
   ],
   "source": [
    "print(p.nlargest(10))"
   ],
   "metadata": {
    "collapsed": false,
    "pycharm": {
     "name": "#%%\n"
    }
   }
  },
  {
   "cell_type": "markdown",
   "source": [
    "# Deep Learning"
   ],
   "metadata": {
    "collapsed": false,
    "pycharm": {
     "name": "#%% md\n"
    }
   }
  },
  {
   "cell_type": "code",
   "execution_count": 21,
   "outputs": [],
   "source": [
    "import tensorflow as tf\n",
    "from sklearn.model_selection import train_test_split\n",
    "from tensorflow.keras.layers import Input ,Embedding, Flatten, Dot, Dense, Concatenate, Reshape\n",
    "from tensorflow.keras import Model\n",
    "from tensorflow.keras.regularizers import l2"
   ],
   "metadata": {
    "collapsed": false,
    "pycharm": {
     "name": "#%%\n"
    }
   }
  },
  {
   "cell_type": "code",
   "execution_count": 64,
   "outputs": [
    {
     "name": "stdout",
     "output_type": "stream",
     "text": [
      "Number of users: 20000, Number of items:5000\n"
     ]
    }
   ],
   "source": [
    "user_ids = data['user_id'].unique().tolist()\n",
    "item_ids = data['item_id'].unique().tolist()\n",
    "u2u = {x:i for i, x in enumerate(user_ids)}\n",
    "i2i = {x:i for i, x in enumerate(item_ids)}\n",
    "i_enc_2_i = {i:x for i, x in enumerate(item_ids)}\n",
    "num_users = len(u2u)\n",
    "num_items = len(i2i)\n",
    "print(\"Number of users: {}, Number of items:{}\".format(num_users,num_items))"
   ],
   "metadata": {
    "collapsed": false,
    "pycharm": {
     "name": "#%%\n"
    }
   }
  },
  {
   "cell_type": "code",
   "execution_count": 38,
   "outputs": [],
   "source": [
    "X = data[['user_id', 'item_id']].values\n",
    "Y = data['rating'].values"
   ],
   "metadata": {
    "collapsed": false,
    "pycharm": {
     "name": "#%%\n"
    }
   }
  },
  {
   "cell_type": "code",
   "execution_count": 41,
   "outputs": [
    {
     "data": {
      "text/plain": "((893096, 2), (223274, 2), (893096,), (223274,))"
     },
     "execution_count": 41,
     "metadata": {},
     "output_type": "execute_result"
    }
   ],
   "source": [
    "x_train, x_test, y_train, y_test  = train_test_split(X,Y,test_size= 0.2, random_state= 42)\n",
    "x_train.shape, x_test.shape,y_train.shape, y_test.shape"
   ],
   "metadata": {
    "collapsed": false,
    "pycharm": {
     "name": "#%%\n"
    }
   }
  },
  {
   "cell_type": "code",
   "execution_count": 42,
   "outputs": [],
   "source": [
    "x_train_array = [x_train[:,0],x_train[:,1]]\n",
    "x_test_array = [x_test[:,0],x_test[:,1]]"
   ],
   "metadata": {
    "collapsed": false,
    "pycharm": {
     "name": "#%%\n"
    }
   }
  },
  {
   "cell_type": "code",
   "execution_count": 43,
   "outputs": [],
   "source": [
    "class EmbeddingLayer:\n",
    "    def __init__(self, num_items, embedding_size):\n",
    "        self.num_items = num_items\n",
    "        self.embedding_size = embedding_size\n",
    "\n",
    "    def __call__(self, x):\n",
    "        x = Embedding(self.num_items, self.embedding_size, embeddings_initializer='he_normal',\n",
    "                      embeddings_regularizer= l2(1e-6))(x)\n",
    "        x = Reshape((self.embedding_size,))(x)\n",
    "        return  x\n",
    "\n",
    "def recommender(n_users, n_items, embedding_size):\n",
    "    user = Input(shape=(1,))\n",
    "    user_vec = EmbeddingLayer(n_users, embedding_size)(user)\n",
    "\n",
    "    item = Input(shape=(1,))\n",
    "    item_vec = EmbeddingLayer(n_items, embedding_size)(item)\n",
    "\n",
    "    x = Dot(axes= 1)([user_vec, item_vec])\n",
    "    x = tf.nn.sigmoid(x)\n",
    "\n",
    "    model = Model(inputs = [user, item], outputs = x)\n",
    "    optimizer = tf.keras.optimizers.Adam(learning_rate= 0.001)\n",
    "    model.compile(loss= tf.keras.losses.BinaryCrossentropy(), optimizer= optimizer)\n",
    "    return  model"
   ],
   "metadata": {
    "collapsed": false,
    "pycharm": {
     "name": "#%%\n"
    }
   }
  },
  {
   "cell_type": "code",
   "execution_count": 44,
   "outputs": [
    {
     "name": "stdout",
     "output_type": "stream",
     "text": [
      "Model: \"functional_5\"\n",
      "__________________________________________________________________________________________________\n",
      "Layer (type)                    Output Shape         Param #     Connected to                     \n",
      "==================================================================================================\n",
      "input_9 (InputLayer)            [(None, 1)]          0                                            \n",
      "__________________________________________________________________________________________________\n",
      "input_10 (InputLayer)           [(None, 1)]          0                                            \n",
      "__________________________________________________________________________________________________\n",
      "embedding_8 (Embedding)         (None, 1, 50)        1000000     input_9[0][0]                    \n",
      "__________________________________________________________________________________________________\n",
      "embedding_9 (Embedding)         (None, 1, 50)        250000      input_10[0][0]                   \n",
      "__________________________________________________________________________________________________\n",
      "reshape_8 (Reshape)             (None, 50)           0           embedding_8[0][0]                \n",
      "__________________________________________________________________________________________________\n",
      "reshape_9 (Reshape)             (None, 50)           0           embedding_9[0][0]                \n",
      "__________________________________________________________________________________________________\n",
      "dot_2 (Dot)                     (None, 1)            0           reshape_8[0][0]                  \n",
      "                                                                 reshape_9[0][0]                  \n",
      "__________________________________________________________________________________________________\n",
      "tf_op_layer_Sigmoid_2 (TensorFl [(None, 1)]          0           dot_2[0][0]                      \n",
      "==================================================================================================\n",
      "Total params: 1,250,000\n",
      "Trainable params: 1,250,000\n",
      "Non-trainable params: 0\n",
      "__________________________________________________________________________________________________\n"
     ]
    }
   ],
   "source": [
    "model = recommender(num_users, num_items, embedding_size= 50)\n",
    "model.summary()"
   ],
   "metadata": {
    "collapsed": false,
    "pycharm": {
     "name": "#%%\n"
    }
   }
  },
  {
   "cell_type": "code",
   "execution_count": 46,
   "outputs": [
    {
     "name": "stdout",
     "output_type": "stream",
     "text": [
      "Epoch 1/5\n",
      "13955/13955 [==============================] - 164s 12ms/step - loss: 0.6487 - val_loss: 0.6338\n",
      "Epoch 2/5\n",
      "13955/13955 [==============================] - 161s 12ms/step - loss: 0.6011 - val_loss: 0.6299\n",
      "Epoch 3/5\n",
      "13955/13955 [==============================] - 162s 12ms/step - loss: 0.5573 - val_loss: 0.6454\n",
      "Epoch 4/5\n",
      "13955/13955 [==============================] - 166s 12ms/step - loss: 0.5174 - val_loss: 0.6777\n",
      "Epoch 5/5\n",
      "13955/13955 [==============================] - 164s 12ms/step - loss: 0.4830 - val_loss: 0.7171\n"
     ]
    }
   ],
   "source": [
    "history = model.fit(x = x_train_array, y = y_train, batch_size= 64, epochs=5, verbose= 1,\n",
    "                    validation_data= (x_test_array, y_test))"
   ],
   "metadata": {
    "collapsed": false,
    "pycharm": {
     "name": "#%%\n"
    }
   }
  },
  {
   "cell_type": "code",
   "execution_count": 128,
   "outputs": [
    {
     "ename": "KeyboardInterrupt",
     "evalue": "",
     "output_type": "error",
     "traceback": [
      "\u001B[1;31m---------------------------------------------------------------------------\u001B[0m",
      "\u001B[1;31mKeyboardInterrupt\u001B[0m                         Traceback (most recent call last)",
      "\u001B[1;32m~\\AppData\\Local\\Temp/ipykernel_9544/647701860.py\u001B[0m in \u001B[0;36m<module>\u001B[1;34m\u001B[0m\n\u001B[0;32m      3\u001B[0m     \u001B[0mitems_viewed_by_user\u001B[0m \u001B[1;33m=\u001B[0m \u001B[0mdata\u001B[0m\u001B[1;33m[\u001B[0m\u001B[0mdata\u001B[0m\u001B[1;33m.\u001B[0m\u001B[0muser_id\u001B[0m \u001B[1;33m==\u001B[0m \u001B[0mu\u001B[0m\u001B[1;33m]\u001B[0m\u001B[1;33m\u001B[0m\u001B[1;33m\u001B[0m\u001B[0m\n\u001B[0;32m      4\u001B[0m     \u001B[0mitems_not_viewed\u001B[0m \u001B[1;33m=\u001B[0m \u001B[0mdata\u001B[0m\u001B[1;33m.\u001B[0m\u001B[0mitem_id\u001B[0m\u001B[1;33m[\u001B[0m\u001B[1;33m~\u001B[0m\u001B[0mdata\u001B[0m\u001B[1;33m[\u001B[0m\u001B[1;34m'item_id'\u001B[0m\u001B[1;33m]\u001B[0m\u001B[1;33m.\u001B[0m\u001B[0misin\u001B[0m\u001B[1;33m(\u001B[0m\u001B[0mitems_viewed_by_user\u001B[0m\u001B[1;33m.\u001B[0m\u001B[0mitem_id\u001B[0m\u001B[1;33m.\u001B[0m\u001B[0mvalues\u001B[0m\u001B[1;33m)\u001B[0m\u001B[1;33m]\u001B[0m\u001B[1;33m\u001B[0m\u001B[1;33m\u001B[0m\u001B[0m\n\u001B[1;32m----> 5\u001B[1;33m     \u001B[0mitems_not_viewed\u001B[0m \u001B[1;33m=\u001B[0m \u001B[0mlist\u001B[0m\u001B[1;33m(\u001B[0m\u001B[0mset\u001B[0m\u001B[1;33m(\u001B[0m\u001B[0mitems_not_viewed\u001B[0m\u001B[1;33m)\u001B[0m\u001B[1;33m.\u001B[0m\u001B[0mintersection\u001B[0m\u001B[1;33m(\u001B[0m\u001B[0mset\u001B[0m\u001B[1;33m(\u001B[0m\u001B[0mi2i\u001B[0m\u001B[1;33m.\u001B[0m\u001B[0mkeys\u001B[0m\u001B[1;33m(\u001B[0m\u001B[1;33m)\u001B[0m\u001B[1;33m)\u001B[0m\u001B[1;33m)\u001B[0m\u001B[1;33m)\u001B[0m\u001B[1;33m\u001B[0m\u001B[1;33m\u001B[0m\u001B[0m\n\u001B[0m\u001B[0;32m      6\u001B[0m     \u001B[0mitems_not_viewed\u001B[0m \u001B[1;33m=\u001B[0m \u001B[0mlist\u001B[0m\u001B[1;33m(\u001B[0m\u001B[0mnp\u001B[0m\u001B[1;33m.\u001B[0m\u001B[0mrandom\u001B[0m\u001B[1;33m.\u001B[0m\u001B[0mchoice\u001B[0m\u001B[1;33m(\u001B[0m\u001B[0mitems_not_viewed\u001B[0m\u001B[1;33m,\u001B[0m \u001B[1;36m99\u001B[0m\u001B[1;33m)\u001B[0m\u001B[1;33m)\u001B[0m\u001B[1;33m\u001B[0m\u001B[1;33m\u001B[0m\u001B[0m\n\u001B[0;32m      7\u001B[0m     \u001B[0mtest_items\u001B[0m \u001B[1;33m=\u001B[0m \u001B[0mitems_not_viewed\u001B[0m \u001B[1;33m+\u001B[0m \u001B[1;33m[\u001B[0m\u001B[0mi\u001B[0m\u001B[1;33m]\u001B[0m\u001B[1;33m\u001B[0m\u001B[1;33m\u001B[0m\u001B[0m\n",
      "\u001B[1;31mKeyboardInterrupt\u001B[0m: "
     ]
    }
   ],
   "source": [
    "hit = []\n",
    "for u, i in set(zip(list(x_test[:,0]), list(x_test[:,1]))):\n",
    "    items_viewed_by_user = data[data.user_id == u]\n",
    "    items_not_viewed = data.item_id[~data['item_id'].isin(items_viewed_by_user.item_id.values)]\n",
    "    items_not_viewed = list(set(items_not_viewed).intersection(set(i2i.keys())))\n",
    "    items_not_viewed = list(np.random.choice(items_not_viewed, 99))\n",
    "    test_items = items_not_viewed + [i]\n",
    "    test_items = [[i2i.get(x)] for x in test_items]\n",
    "    user_item = np.hstack(([[u]]* len(test_items), test_items))\n",
    "    user_item_array = [user_item[:,0], user_item[:,1]]\n",
    "    predicted_labels = model.predict(user_item_array).flatten()\n",
    "    top_rating = predicted_labels.argsort()[-10:][::-1]\n",
    "    top_10_item = [test_items[i] for i in top_rating]\n",
    "\n",
    "    if i in top_10_item:\n",
    "        hit.append(1)\n",
    "    else:\n",
    "        hit.append(0)"
   ],
   "metadata": {
    "collapsed": false,
    "pycharm": {
     "name": "#%%\n"
    }
   }
  },
  {
   "cell_type": "code",
   "execution_count": 132,
   "outputs": [
    {
     "data": {
      "text/plain": "0.002139495079161318"
     },
     "execution_count": 132,
     "metadata": {},
     "output_type": "execute_result"
    }
   ],
   "source": [],
   "metadata": {
    "collapsed": false,
    "pycharm": {
     "name": "#%%\n"
    }
   }
  },
  {
   "cell_type": "code",
   "execution_count": 102,
   "outputs": [
    {
     "name": "stdout",
     "output_type": "stream",
     "text": [
      "[1586, 3226, 3007, 2287, 836, 1330, 3651, 2084, 2892, 946]\n",
      "Recommendation for user: 17715\n",
      "======================================================\n",
      "Items liked by this user\n",
      "[3669 3920 3428 3194 2266]\n",
      "---------------------------\n",
      "Top 10 recommendation for user\n",
      "[1586, 3226, 3007, 2287, 836, 1330, 3651, 2084, 2892, 946]\n"
     ]
    }
   ],
   "source": [
    "user_id = data.user_id.sample(1).iloc[0]\n",
    "items_viewed_by_user = data[data.user_id == user_id]\n",
    "items_not_viewed = data.item_id[~data['item_id'].isin(items_viewed_by_user.item_id.values)]\n",
    "items_not_viewed = list(set(items_not_viewed).intersection(set(i2i.keys())))\n",
    "items_not_viewed = [[i2i.get(x)] for x in items_not_viewed]\n",
    "user_enc = u2u.get(user_id)\n",
    "user_item = np.hstack(([[user_enc]]* len(items_not_viewed), items_not_viewed))\n",
    "user_item_array = [user_item[:,0], user_item[:,1]]\n",
    "ratings = model.predict(user_item_array).flatten()\n",
    "top_rating = ratings.argsort()[-10:][::-1]\n",
    "recommended_items = [i_enc_2_i.get(items_not_viewed[x][0]) for x in top_rating]\n",
    "print(recommended_items)\n",
    "print(\"Recommendation for user: {}\".format(user_id))\n",
    "print(\"======\"*9)\n",
    "print(\"Items liked by this user\")\n",
    "items_liked_used = (items_viewed_by_user.sort_values(by = 'rating', ascending= False).head(5).item_id.values)\n",
    "print(items_liked_used)\n",
    "print(\"---\" * 9)\n",
    "print('Top 10 recommendation for user')\n",
    "print(recommended_items)"
   ],
   "metadata": {
    "collapsed": false,
    "pycharm": {
     "name": "#%%\n"
    }
   }
  }
 ],
 "metadata": {
  "kernelspec": {
   "display_name": "Python 3",
   "language": "python",
   "name": "python3"
  },
  "language_info": {
   "codemirror_mode": {
    "name": "ipython",
    "version": 2
   },
   "file_extension": ".py",
   "mimetype": "text/x-python",
   "name": "python",
   "nbconvert_exporter": "python",
   "pygments_lexer": "ipython2",
   "version": "2.7.6"
  }
 },
 "nbformat": 4,
 "nbformat_minor": 0
}
